{
  "nbformat": 4,
  "nbformat_minor": 0,
  "metadata": {
    "colab": {
      "name": "Nominatim_geocode_example.ipynb",
      "provenance": [],
      "collapsed_sections": [],
      "toc_visible": true,
      "include_colab_link": true
    },
    "kernelspec": {
      "name": "python3",
      "display_name": "Python 3"
    }
  },
  "cells": [
    {
      "cell_type": "markdown",
      "metadata": {
        "id": "view-in-github",
        "colab_type": "text"
      },
      "source": [
        "<a href=\"https://colab.research.google.com/github/bakhtiargithub/data/blob/main/Nominatim_geocode_example.ipynb\" target=\"_parent\"><img src=\"https://colab.research.google.com/assets/colab-badge.svg\" alt=\"Open In Colab\"/></a>"
      ]
    },
    {
      "cell_type": "markdown",
      "metadata": {
        "id": "_EPkP35KblsI"
      },
      "source": [
        "## Geocoding addresses in Python with Geopy\n",
        "\n",
        "This notebook demonstrates a simple python geocoding and mapping workflow."
      ]
    },
    {
      "cell_type": "markdown",
      "metadata": {
        "id": "rs5iu36obYYn"
      },
      "source": [
        "###  Install geocoding and mapping libraries that we will use.\n",
        "\n",
        "- [geopy](https://geopy.readthedocs.io/), for consistant interface to different geocoding APIs\n",
        "- [folium](https://github.com/python-visualization/folium), a python library for making interactive maps"
      ]
    },
    {
      "cell_type": "code",
      "metadata": {
        "id": "-wLY35Xh2NWC",
        "outputId": "cf89cc08-0373-4ab5-9607-4b48553e3d75",
        "colab": {
          "base_uri": "https://localhost:8080/",
          "height": 52
        }
      },
      "source": [
        "# Geocoding library \n",
        "!pip install geopy"
      ],
      "execution_count": null,
      "outputs": [
        {
          "output_type": "stream",
          "text": [
            "Requirement already satisfied: geopy in /usr/local/lib/python3.6/dist-packages (1.17.0)\n",
            "Requirement already satisfied: geographiclib<2,>=1.49 in /usr/local/lib/python3.6/dist-packages (from geopy) (1.50)\n"
          ],
          "name": "stdout"
        }
      ]
    },
    {
      "cell_type": "code",
      "metadata": {
        "id": "bMnYdhHoTDcU",
        "outputId": "214182b8-647c-44be-8c1e-0eb4e157e30c",
        "colab": {
          "base_uri": "https://localhost:8080/",
          "height": 232
        }
      },
      "source": [
        "# Install folium\n",
        "!pip install folium\n"
      ],
      "execution_count": null,
      "outputs": [
        {
          "output_type": "stream",
          "text": [
            "Requirement already satisfied: folium in /usr/local/lib/python3.6/dist-packages (0.8.3)\n",
            "Requirement already satisfied: six in /usr/local/lib/python3.6/dist-packages (from folium) (1.12.0)\n",
            "Requirement already satisfied: branca>=0.3.0 in /usr/local/lib/python3.6/dist-packages (from folium) (0.4.1)\n",
            "Requirement already satisfied: jinja2 in /usr/local/lib/python3.6/dist-packages (from folium) (2.11.2)\n",
            "Requirement already satisfied: numpy in /usr/local/lib/python3.6/dist-packages (from folium) (1.18.5)\n",
            "Requirement already satisfied: requests in /usr/local/lib/python3.6/dist-packages (from folium) (2.23.0)\n",
            "Requirement already satisfied: MarkupSafe>=0.23 in /usr/local/lib/python3.6/dist-packages (from jinja2->folium) (1.1.1)\n",
            "Requirement already satisfied: urllib3!=1.25.0,!=1.25.1,<1.26,>=1.21.1 in /usr/local/lib/python3.6/dist-packages (from requests->folium) (1.24.3)\n",
            "Requirement already satisfied: chardet<4,>=3.0.2 in /usr/local/lib/python3.6/dist-packages (from requests->folium) (3.0.4)\n",
            "Requirement already satisfied: certifi>=2017.4.17 in /usr/local/lib/python3.6/dist-packages (from requests->folium) (2020.6.20)\n",
            "Requirement already satisfied: idna<3,>=2.5 in /usr/local/lib/python3.6/dist-packages (from requests->folium) (2.9)\n"
          ],
          "name": "stdout"
        }
      ]
    },
    {
      "cell_type": "markdown",
      "metadata": {
        "id": "uuG8TVj1cEl6"
      },
      "source": [
        "### Import the libraries we just installed."
      ]
    },
    {
      "cell_type": "code",
      "metadata": {
        "id": "N_uFhY3E2UoA"
      },
      "source": [
        "import pandas as pd\n",
        "from geopy.geocoders import Nominatim\n",
        "import folium"
      ],
      "execution_count": null,
      "outputs": []
    },
    {
      "cell_type": "markdown",
      "metadata": {
        "id": "WCjds8JbcHqz"
      },
      "source": [
        "### Create a geocoder that uses the [OpenStreetMap Nominatim API](https://https://wiki.openstreetmap.org/wiki/Nominatim/FAQ)"
      ]
    },
    {
      "cell_type": "code",
      "metadata": {
        "id": "A6Fioemc2Wuh"
      },
      "source": [
        "geolocator = Nominatim(timeout=10, user_agent = \"dlab.berkeley.edu-workshop\")"
      ],
      "execution_count": null,
      "outputs": []
    },
    {
      "cell_type": "markdown",
      "metadata": {
        "id": "DlabiaD8ddfb"
      },
      "source": [
        "Test the geocoder with one address"
      ]
    },
    {
      "cell_type": "code",
      "metadata": {
        "id": "iLH4mCcn2Ybw",
        "outputId": "bea3f372-9b84-405b-e1d0-acece5475ad8",
        "colab": {
          "base_uri": "https://localhost:8080/",
          "height": 54
        }
      },
      "source": [
        "location = geolocator.geocode('Barrows Hall, Berkeley CA')\n",
        "location"
      ],
      "execution_count": null,
      "outputs": [
        {
          "output_type": "execute_result",
          "data": {
            "text/plain": [
              "Location(Barrows Hall, Eshleman Road, Southside, Berkeley, Alameda County, California, 94720, United States of America, (37.87010715, -122.25792696947403, 0.0))"
            ]
          },
          "metadata": {
            "tags": []
          },
          "execution_count": 5
        }
      ]
    },
    {
      "cell_type": "markdown",
      "metadata": {
        "id": "9jDC-1hpdjYl"
      },
      "source": [
        "### Upload a CSV file of addresses to geocode\n",
        "\n",
        "Fetch the data to geocode with `wget`\n",
        "- Alternatively, you can download this file [here](https://raw.githubusercontent.com/dlab-geo/geocoding/master/address_data/SFLandmarks.csv)"
      ]
    },
    {
      "cell_type": "code",
      "metadata": {
        "id": "54-OJ2fvDbZB",
        "outputId": "ab43d894-c904-4e94-eea4-79370fa46b1f",
        "colab": {
          "base_uri": "https://localhost:8080/",
          "height": 212
        }
      },
      "source": [
        "!wget https://raw.githubusercontent.com/dlab-geo/geocoding/master/address_data/SFLandmarks.csv"
      ],
      "execution_count": null,
      "outputs": [
        {
          "output_type": "stream",
          "text": [
            "--2020-07-08 07:08:58--  https://raw.githubusercontent.com/dlab-geo/geocoding/master/address_data/SFLandmarks.csv\n",
            "Resolving raw.githubusercontent.com (raw.githubusercontent.com)... 151.101.0.133, 151.101.64.133, 151.101.128.133, ...\n",
            "Connecting to raw.githubusercontent.com (raw.githubusercontent.com)|151.101.0.133|:443... connected.\n",
            "HTTP request sent, awaiting response... 200 OK\n",
            "Length: 156 [text/plain]\n",
            "Saving to: ‘SFLandmarks.csv.1’\n",
            "\n",
            "\rSFLandmarks.csv.1     0%[                    ]       0  --.-KB/s               \rSFLandmarks.csv.1   100%[===================>]     156  --.-KB/s    in 0s      \n",
            "\n",
            "2020-07-08 07:08:59 (8.75 MB/s) - ‘SFLandmarks.csv.1’ saved [156/156]\n",
            "\n"
          ],
          "name": "stdout"
        }
      ]
    },
    {
      "cell_type": "code",
      "metadata": {
        "id": "qeEtES1rDhzC",
        "outputId": "c17038e5-1af5-470e-cc1b-e7f199d7edf4",
        "colab": {
          "base_uri": "https://localhost:8080/",
          "height": 34
        }
      },
      "source": [
        "!ls"
      ],
      "execution_count": null,
      "outputs": [
        {
          "output_type": "stream",
          "text": [
            "oak_liquor_stores.csv  sample_data  SFLandmarks.csv  SFLandmarks.csv.1\n"
          ],
          "name": "stdout"
        }
      ]
    },
    {
      "cell_type": "markdown",
      "metadata": {
        "id": "1aWs_yS7eykQ"
      },
      "source": [
        "### Read in the file with `pandas`\n"
      ]
    },
    {
      "cell_type": "code",
      "metadata": {
        "id": "FsPHPTyxfrI0",
        "outputId": "e6f5b531-e5b4-43af-e65d-3960efbe45ca",
        "colab": {
          "base_uri": "https://localhost:8080/",
          "height": 105
        }
      },
      "source": [
        "df = pd.read_csv('SFLandmarks.csv')\n",
        "print(df)"
      ],
      "execution_count": null,
      "outputs": [
        {
          "output_type": "stream",
          "text": [
            "   ID          Landmark           City State\n",
            "0   1      Union Square  San Francisco    CA\n",
            "1   2        Coit Tower  San Francisco    CA\n",
            "2   3  Golden Gate Park  San Francisco    CA\n",
            "3   4        Twin Peaks  San Francisco    CA\n"
          ],
          "name": "stdout"
        }
      ]
    },
    {
      "cell_type": "markdown",
      "metadata": {
        "id": "loRgUnogfCut"
      },
      "source": [
        "### Geocode the addresses in the Pandas Dataframe\n",
        "\n",
        "The next cell does the following\n",
        "\n",
        "- Iterates over all rows in the dataframe `df`.\n",
        "- Joins the values in the columns `Landmark`, `City`, and `State` into one string (the full address)\n",
        "- Submits the string we just created as the address to be geocoded\n",
        "- Saves results to the `geocodes` list object."
      ]
    },
    {
      "cell_type": "code",
      "metadata": {
        "id": "U86x6Ipsfp1z"
      },
      "source": [
        "geocodes = [geolocator.geocode(', '.join([df['Landmark'][i], df['City'][i], df['State'][i]]))for i in range(len(df))]\n"
      ],
      "execution_count": null,
      "outputs": []
    },
    {
      "cell_type": "markdown",
      "metadata": {
        "id": "loPXO5yFfvcE"
      },
      "source": [
        "Take a look at the output."
      ]
    },
    {
      "cell_type": "code",
      "metadata": {
        "id": "Z4G_q0PXfpEX",
        "outputId": "e2973865-c6bc-4add-a23e-c1d002837817",
        "colab": {
          "base_uri": "https://localhost:8080/",
          "height": 107
        }
      },
      "source": [
        "geocodes"
      ],
      "execution_count": null,
      "outputs": [
        {
          "output_type": "execute_result",
          "data": {
            "text/plain": [
              "[Location(Union Square, San Francisco, San Francisco City and County, California, United States of America, (37.7879363, -122.40751740318035, 0.0)),\n",
              " Location(Coit Tower, Telegraph Hill Boulevard, Telegraph Hill, San Francisco, San Francisco City and County, California, 94113, United States of America, (37.80237905, -122.40583435461313, 0.0)),\n",
              " Location(Golden Gate Park, Richmond District, San Francisco, San Francisco City and County, California, 94118-4504, United States of America, (37.769368099999994, -122.48218371117709, 0.0)),\n",
              " Location(Twin Peaks, Christmas Tree Point Road, Cole Valley, San Francisco, San Francisco City and County, California, 94114-1818, United States of America, (37.75464, -122.44648, 0.0))]"
            ]
          },
          "metadata": {
            "tags": []
          },
          "execution_count": 10
        }
      ]
    },
    {
      "cell_type": "markdown",
      "metadata": {
        "id": "Ufc2F80sfyvo"
      },
      "source": [
        "Add the output `latitude` and `longitude` values in the `geocodes` list to the `df` dataframe"
      ]
    },
    {
      "cell_type": "code",
      "metadata": {
        "id": "fcPmeS89fn8W",
        "outputId": "21502e9c-32d5-48f1-c724-f270ec2e02a9",
        "colab": {
          "base_uri": "https://localhost:8080/",
          "height": 167
        }
      },
      "source": [
        "df['lat'] = [g.latitude for g in geocodes]\n",
        "df['lon'] = [g.longitude for g in geocodes]\n",
        "df"
      ],
      "execution_count": null,
      "outputs": [
        {
          "output_type": "execute_result",
          "data": {
            "text/html": [
              "<div>\n",
              "<style scoped>\n",
              "    .dataframe tbody tr th:only-of-type {\n",
              "        vertical-align: middle;\n",
              "    }\n",
              "\n",
              "    .dataframe tbody tr th {\n",
              "        vertical-align: top;\n",
              "    }\n",
              "\n",
              "    .dataframe thead th {\n",
              "        text-align: right;\n",
              "    }\n",
              "</style>\n",
              "<table border=\"1\" class=\"dataframe\">\n",
              "  <thead>\n",
              "    <tr style=\"text-align: right;\">\n",
              "      <th></th>\n",
              "      <th>ID</th>\n",
              "      <th>Landmark</th>\n",
              "      <th>City</th>\n",
              "      <th>State</th>\n",
              "      <th>lat</th>\n",
              "      <th>lon</th>\n",
              "    </tr>\n",
              "  </thead>\n",
              "  <tbody>\n",
              "    <tr>\n",
              "      <th>0</th>\n",
              "      <td>1</td>\n",
              "      <td>Union Square</td>\n",
              "      <td>San Francisco</td>\n",
              "      <td>CA</td>\n",
              "      <td>37.787936</td>\n",
              "      <td>-122.407517</td>\n",
              "    </tr>\n",
              "    <tr>\n",
              "      <th>1</th>\n",
              "      <td>2</td>\n",
              "      <td>Coit Tower</td>\n",
              "      <td>San Francisco</td>\n",
              "      <td>CA</td>\n",
              "      <td>37.802379</td>\n",
              "      <td>-122.405834</td>\n",
              "    </tr>\n",
              "    <tr>\n",
              "      <th>2</th>\n",
              "      <td>3</td>\n",
              "      <td>Golden Gate Park</td>\n",
              "      <td>San Francisco</td>\n",
              "      <td>CA</td>\n",
              "      <td>37.769368</td>\n",
              "      <td>-122.482184</td>\n",
              "    </tr>\n",
              "    <tr>\n",
              "      <th>3</th>\n",
              "      <td>4</td>\n",
              "      <td>Twin Peaks</td>\n",
              "      <td>San Francisco</td>\n",
              "      <td>CA</td>\n",
              "      <td>37.754640</td>\n",
              "      <td>-122.446480</td>\n",
              "    </tr>\n",
              "  </tbody>\n",
              "</table>\n",
              "</div>"
            ],
            "text/plain": [
              "   ID          Landmark           City State        lat         lon\n",
              "0   1      Union Square  San Francisco    CA  37.787936 -122.407517\n",
              "1   2        Coit Tower  San Francisco    CA  37.802379 -122.405834\n",
              "2   3  Golden Gate Park  San Francisco    CA  37.769368 -122.482184\n",
              "3   4        Twin Peaks  San Francisco    CA  37.754640 -122.446480"
            ]
          },
          "metadata": {
            "tags": []
          },
          "execution_count": 11
        }
      ]
    },
    {
      "cell_type": "markdown",
      "metadata": {
        "id": "hSBR_JhTgAhg"
      },
      "source": [
        "### Map the output\n",
        "\n",
        "First, make an empty map centered on San Francisco. Tip, don't name your map **map** as that is a python function."
      ]
    },
    {
      "cell_type": "code",
      "metadata": {
        "id": "MMOCyvHXVbV6",
        "outputId": "0f418728-02ee-495c-c262-5915b6be67e4",
        "colab": {
          "base_uri": "https://localhost:8080/",
          "height": 642
        }
      },
      "source": [
        "map1 = folium.Map(location=(37.754640,\t-122.446480), zoom_start=12)\n",
        "for index,row in df.iterrows(): \n",
        "  # Add the geocoded locations to the map\n",
        "  folium.Marker(location=(row['lat'],row['lon']), popup=row['Landmark']).add_to(map1)\n",
        "\n",
        "display(map1)"
      ],
      "execution_count": null,
      "outputs": [
        {
          "output_type": "display_data",
          "data": {
            "text/html": [
              "<div style=\"width:100%;\"><div style=\"position:relative;width:100%;height:0;padding-bottom:60%;\"><span style=\"color:#565656\">Make this Notebook Trusted to load map: File -> Trust Notebook</span><iframe src=\"about:blank\" style=\"position:absolute;width:100%;height:100%;left:0;top:0;border:none !important;\" data-html=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 onload=\"this.contentDocument.open();this.contentDocument.write(atob(this.getAttribute('data-html')));this.contentDocument.close();\" allowfullscreen webkitallowfullscreen mozallowfullscreen></iframe></div></div>"
            ],
            "text/plain": [
              "<folium.folium.Map at 0x7f7423b58198>"
            ]
          },
          "metadata": {
            "tags": []
          }
        }
      ]
    },
    {
      "cell_type": "markdown",
      "metadata": {
        "id": "krgMFF1kgQdy"
      },
      "source": [
        "Click on the markers above to view the contents of each popup."
      ]
    },
    {
      "cell_type": "markdown",
      "metadata": {
        "id": "GLBbgKt_ga23"
      },
      "source": [
        "## Next steps - Geocode street addresses\n",
        "\n",
        "You can use this basic workflow to geocode named places, zip codes, or addresses, depending on what is supported by the API you use. See the documentation for `geopy` about available geocoding APIs. Then carefully read the documentation for the geocoding API that you decide to use as they typically require `API keys` and have usage limits.\n",
        "\n",
        "So, let's fetch some street address data."
      ]
    },
    {
      "cell_type": "code",
      "metadata": {
        "id": "DhuAiv6dEaRl",
        "outputId": "25e23cb8-d0a1-4279-a004-65cb9fb7abf3",
        "colab": {
          "base_uri": "https://localhost:8080/",
          "height": 212
        }
      },
      "source": [
        "!wget https://raw.githubusercontent.com/dlab-geo/geocoding/master/address_data/oak_liquor_stores.csv"
      ],
      "execution_count": null,
      "outputs": [
        {
          "output_type": "stream",
          "text": [
            "--2020-07-08 07:09:02--  https://raw.githubusercontent.com/dlab-geo/geocoding/master/address_data/oak_liquor_stores.csv\n",
            "Resolving raw.githubusercontent.com (raw.githubusercontent.com)... 151.101.0.133, 151.101.64.133, 151.101.128.133, ...\n",
            "Connecting to raw.githubusercontent.com (raw.githubusercontent.com)|151.101.0.133|:443... connected.\n",
            "HTTP request sent, awaiting response... 200 OK\n",
            "Length: 1163 (1.1K) [text/plain]\n",
            "Saving to: ‘oak_liquor_stores.csv.1’\n",
            "\n",
            "\roak_liquor_stores.c   0%[                    ]       0  --.-KB/s               \roak_liquor_stores.c 100%[===================>]   1.14K  --.-KB/s    in 0s      \n",
            "\n",
            "2020-07-08 07:09:03 (65.2 MB/s) - ‘oak_liquor_stores.csv.1’ saved [1163/1163]\n",
            "\n"
          ],
          "name": "stdout"
        }
      ]
    },
    {
      "cell_type": "code",
      "metadata": {
        "id": "YPtYBh_vfnEK"
      },
      "source": [
        "df = pd.read_csv('oak_liquor_stores.csv')"
      ],
      "execution_count": null,
      "outputs": []
    },
    {
      "cell_type": "code",
      "metadata": {
        "id": "gD6_NruxEz4g",
        "outputId": "7c4fcca5-37c9-4224-ba38-ede60354e756",
        "colab": {
          "base_uri": "https://localhost:8080/",
          "height": 647
        }
      },
      "source": [
        "df"
      ],
      "execution_count": null,
      "outputs": [
        {
          "output_type": "execute_result",
          "data": {
            "text/html": [
              "<div>\n",
              "<style scoped>\n",
              "    .dataframe tbody tr th:only-of-type {\n",
              "        vertical-align: middle;\n",
              "    }\n",
              "\n",
              "    .dataframe tbody tr th {\n",
              "        vertical-align: top;\n",
              "    }\n",
              "\n",
              "    .dataframe thead th {\n",
              "        text-align: right;\n",
              "    }\n",
              "</style>\n",
              "<table border=\"1\" class=\"dataframe\">\n",
              "  <thead>\n",
              "    <tr style=\"text-align: right;\">\n",
              "      <th></th>\n",
              "      <th>id</th>\n",
              "      <th>name</th>\n",
              "      <th>street</th>\n",
              "      <th>city</th>\n",
              "      <th>state</th>\n",
              "      <th>zip</th>\n",
              "      <th>type</th>\n",
              "    </tr>\n",
              "  </thead>\n",
              "  <tbody>\n",
              "    <tr>\n",
              "      <th>0</th>\n",
              "      <td>1</td>\n",
              "      <td>Wah Fay Liquors</td>\n",
              "      <td>2101 8th Ave</td>\n",
              "      <td>Oakland</td>\n",
              "      <td>CA</td>\n",
              "      <td>94606</td>\n",
              "      <td>p</td>\n",
              "    </tr>\n",
              "    <tr>\n",
              "      <th>1</th>\n",
              "      <td>2</td>\n",
              "      <td>Vision Liquor</td>\n",
              "      <td>1615 Macarthur Blvd</td>\n",
              "      <td>Oakland</td>\n",
              "      <td>CA</td>\n",
              "      <td>94602</td>\n",
              "      <td>p</td>\n",
              "    </tr>\n",
              "    <tr>\n",
              "      <th>2</th>\n",
              "      <td>3</td>\n",
              "      <td>Souza's Liquors</td>\n",
              "      <td>394 12th St</td>\n",
              "      <td>Oakland</td>\n",
              "      <td>CA</td>\n",
              "      <td>94607</td>\n",
              "      <td>p</td>\n",
              "    </tr>\n",
              "    <tr>\n",
              "      <th>3</th>\n",
              "      <td>4</td>\n",
              "      <td>Tk Liquors</td>\n",
              "      <td>1500 23th Ave</td>\n",
              "      <td>Oakland</td>\n",
              "      <td>CA</td>\n",
              "      <td>94606</td>\n",
              "      <td>p</td>\n",
              "    </tr>\n",
              "    <tr>\n",
              "      <th>4</th>\n",
              "      <td>5</td>\n",
              "      <td>Quadriga Wines Inc</td>\n",
              "      <td>6193 Ridgemont Dr</td>\n",
              "      <td>Oakland</td>\n",
              "      <td>CA</td>\n",
              "      <td>94619</td>\n",
              "      <td>p</td>\n",
              "    </tr>\n",
              "    <tr>\n",
              "      <th>5</th>\n",
              "      <td>6</td>\n",
              "      <td>Bev Mo</td>\n",
              "      <td>525 Embarcadero W</td>\n",
              "      <td>Oakland</td>\n",
              "      <td>CA</td>\n",
              "      <td>94607</td>\n",
              "      <td>c</td>\n",
              "    </tr>\n",
              "    <tr>\n",
              "      <th>6</th>\n",
              "      <td>7</td>\n",
              "      <td>Fairfax Liquor</td>\n",
              "      <td>5403 Foothill Blvd</td>\n",
              "      <td>Oakland</td>\n",
              "      <td>CA</td>\n",
              "      <td>94601</td>\n",
              "      <td>p</td>\n",
              "    </tr>\n",
              "    <tr>\n",
              "      <th>7</th>\n",
              "      <td>8</td>\n",
              "      <td>Saleen Market</td>\n",
              "      <td>1200 78th Ave</td>\n",
              "      <td>Oakland</td>\n",
              "      <td>CA</td>\n",
              "      <td>94621</td>\n",
              "      <td>m</td>\n",
              "    </tr>\n",
              "    <tr>\n",
              "      <th>8</th>\n",
              "      <td>9</td>\n",
              "      <td>Park Liquors</td>\n",
              "      <td>828 Franklin St</td>\n",
              "      <td>Oakland</td>\n",
              "      <td>CA</td>\n",
              "      <td>94607</td>\n",
              "      <td>p</td>\n",
              "    </tr>\n",
              "    <tr>\n",
              "      <th>9</th>\n",
              "      <td>10</td>\n",
              "      <td>Los Camellos</td>\n",
              "      <td>5913 International Blvd</td>\n",
              "      <td>Oakland</td>\n",
              "      <td>CA</td>\n",
              "      <td>94621</td>\n",
              "      <td>p</td>\n",
              "    </tr>\n",
              "    <tr>\n",
              "      <th>10</th>\n",
              "      <td>11</td>\n",
              "      <td>Vernon Market</td>\n",
              "      <td>3210 Harrison St</td>\n",
              "      <td>Oakland</td>\n",
              "      <td>CA</td>\n",
              "      <td>94611</td>\n",
              "      <td>m</td>\n",
              "    </tr>\n",
              "    <tr>\n",
              "      <th>11</th>\n",
              "      <td>12</td>\n",
              "      <td>Seventh Street Food &amp; Liquor</td>\n",
              "      <td>1460 7th St</td>\n",
              "      <td>Oakland</td>\n",
              "      <td>CA</td>\n",
              "      <td>94607</td>\n",
              "      <td>m</td>\n",
              "    </tr>\n",
              "    <tr>\n",
              "      <th>12</th>\n",
              "      <td>13</td>\n",
              "      <td>Sav-Mor Liquor</td>\n",
              "      <td>1333 Peralta St</td>\n",
              "      <td>Oakland</td>\n",
              "      <td>CA</td>\n",
              "      <td>94607</td>\n",
              "      <td>p</td>\n",
              "    </tr>\n",
              "    <tr>\n",
              "      <th>13</th>\n",
              "      <td>14</td>\n",
              "      <td>Vernon Market</td>\n",
              "      <td>3710 Telegraph Ave</td>\n",
              "      <td>Oakland</td>\n",
              "      <td>CA</td>\n",
              "      <td>94609</td>\n",
              "      <td>m</td>\n",
              "    </tr>\n",
              "    <tr>\n",
              "      <th>14</th>\n",
              "      <td>15</td>\n",
              "      <td>Buckingham Wine &amp; Spirits</td>\n",
              "      <td>3293 Lakeshore Ave</td>\n",
              "      <td>Oakland</td>\n",
              "      <td>CA</td>\n",
              "      <td>94610</td>\n",
              "      <td>p</td>\n",
              "    </tr>\n",
              "    <tr>\n",
              "      <th>15</th>\n",
              "      <td>16</td>\n",
              "      <td>Happy Time</td>\n",
              "      <td>1647 8th St</td>\n",
              "      <td>Oakland</td>\n",
              "      <td>CA</td>\n",
              "      <td>94607</td>\n",
              "      <td>p</td>\n",
              "    </tr>\n",
              "    <tr>\n",
              "      <th>16</th>\n",
              "      <td>17</td>\n",
              "      <td>Gallager Market</td>\n",
              "      <td>3849 Martin Luther King Jr Way</td>\n",
              "      <td>Oakland</td>\n",
              "      <td>CA</td>\n",
              "      <td>94609</td>\n",
              "      <td>m</td>\n",
              "    </tr>\n",
              "    <tr>\n",
              "      <th>17</th>\n",
              "      <td>18</td>\n",
              "      <td>Grand Piedmont Liquors</td>\n",
              "      <td>3900 Grand Ave</td>\n",
              "      <td>Oakland</td>\n",
              "      <td>CA</td>\n",
              "      <td>94610</td>\n",
              "      <td>p</td>\n",
              "    </tr>\n",
              "    <tr>\n",
              "      <th>18</th>\n",
              "      <td>19</td>\n",
              "      <td>J J Buckley Fine Wines</td>\n",
              "      <td>7305 Edgewater Dr #D</td>\n",
              "      <td>Oakland</td>\n",
              "      <td>CA</td>\n",
              "      <td>94621</td>\n",
              "      <td>p</td>\n",
              "    </tr>\n",
              "    <tr>\n",
              "      <th>19</th>\n",
              "      <td>20</td>\n",
              "      <td>Carriage Trade Liquors</td>\n",
              "      <td>350 E 18th St</td>\n",
              "      <td>Oakland</td>\n",
              "      <td>CA</td>\n",
              "      <td>94606</td>\n",
              "      <td>p</td>\n",
              "    </tr>\n",
              "  </tbody>\n",
              "</table>\n",
              "</div>"
            ],
            "text/plain": [
              "    id                          name  ...    zip type\n",
              "0    1               Wah Fay Liquors  ...  94606    p\n",
              "1    2                 Vision Liquor  ...  94602    p\n",
              "2    3               Souza's Liquors  ...  94607    p\n",
              "3    4                    Tk Liquors  ...  94606    p\n",
              "4    5            Quadriga Wines Inc  ...  94619    p\n",
              "5    6                        Bev Mo  ...  94607    c\n",
              "6    7                Fairfax Liquor  ...  94601    p\n",
              "7    8                 Saleen Market  ...  94621    m\n",
              "8    9                  Park Liquors  ...  94607    p\n",
              "9   10                  Los Camellos  ...  94621    p\n",
              "10  11                 Vernon Market  ...  94611    m\n",
              "11  12  Seventh Street Food & Liquor  ...  94607    m\n",
              "12  13                Sav-Mor Liquor  ...  94607    p\n",
              "13  14                 Vernon Market  ...  94609    m\n",
              "14  15     Buckingham Wine & Spirits  ...  94610    p\n",
              "15  16                    Happy Time  ...  94607    p\n",
              "16  17               Gallager Market  ...  94609    m\n",
              "17  18        Grand Piedmont Liquors  ...  94610    p\n",
              "18  19        J J Buckley Fine Wines  ...  94621    p\n",
              "19  20        Carriage Trade Liquors  ...  94606    p\n",
              "\n",
              "[20 rows x 7 columns]"
            ]
          },
          "metadata": {
            "tags": []
          },
          "execution_count": 15
        }
      ]
    },
    {
      "cell_type": "code",
      "metadata": {
        "id": "PGXYG671E1aZ"
      },
      "source": [
        "df['addr'] = (df['street'] + ' ' + df['city'] + ', ' + df['state'] ).str.strip()"
      ],
      "execution_count": null,
      "outputs": []
    },
    {
      "cell_type": "code",
      "metadata": {
        "id": "k_cuIWbaKXpf",
        "outputId": "afc9b8ff-68f5-46f3-d294-7da995d08e94",
        "colab": {
          "base_uri": "https://localhost:8080/",
          "height": 647
        }
      },
      "source": [
        "df"
      ],
      "execution_count": null,
      "outputs": [
        {
          "output_type": "execute_result",
          "data": {
            "text/html": [
              "<div>\n",
              "<style scoped>\n",
              "    .dataframe tbody tr th:only-of-type {\n",
              "        vertical-align: middle;\n",
              "    }\n",
              "\n",
              "    .dataframe tbody tr th {\n",
              "        vertical-align: top;\n",
              "    }\n",
              "\n",
              "    .dataframe thead th {\n",
              "        text-align: right;\n",
              "    }\n",
              "</style>\n",
              "<table border=\"1\" class=\"dataframe\">\n",
              "  <thead>\n",
              "    <tr style=\"text-align: right;\">\n",
              "      <th></th>\n",
              "      <th>id</th>\n",
              "      <th>name</th>\n",
              "      <th>street</th>\n",
              "      <th>city</th>\n",
              "      <th>state</th>\n",
              "      <th>zip</th>\n",
              "      <th>type</th>\n",
              "      <th>addr</th>\n",
              "    </tr>\n",
              "  </thead>\n",
              "  <tbody>\n",
              "    <tr>\n",
              "      <th>0</th>\n",
              "      <td>1</td>\n",
              "      <td>Wah Fay Liquors</td>\n",
              "      <td>2101 8th Ave</td>\n",
              "      <td>Oakland</td>\n",
              "      <td>CA</td>\n",
              "      <td>94606</td>\n",
              "      <td>p</td>\n",
              "      <td>2101 8th Ave Oakland, CA</td>\n",
              "    </tr>\n",
              "    <tr>\n",
              "      <th>1</th>\n",
              "      <td>2</td>\n",
              "      <td>Vision Liquor</td>\n",
              "      <td>1615 Macarthur Blvd</td>\n",
              "      <td>Oakland</td>\n",
              "      <td>CA</td>\n",
              "      <td>94602</td>\n",
              "      <td>p</td>\n",
              "      <td>1615 Macarthur Blvd Oakland, CA</td>\n",
              "    </tr>\n",
              "    <tr>\n",
              "      <th>2</th>\n",
              "      <td>3</td>\n",
              "      <td>Souza's Liquors</td>\n",
              "      <td>394 12th St</td>\n",
              "      <td>Oakland</td>\n",
              "      <td>CA</td>\n",
              "      <td>94607</td>\n",
              "      <td>p</td>\n",
              "      <td>394 12th St Oakland, CA</td>\n",
              "    </tr>\n",
              "    <tr>\n",
              "      <th>3</th>\n",
              "      <td>4</td>\n",
              "      <td>Tk Liquors</td>\n",
              "      <td>1500 23th Ave</td>\n",
              "      <td>Oakland</td>\n",
              "      <td>CA</td>\n",
              "      <td>94606</td>\n",
              "      <td>p</td>\n",
              "      <td>1500 23th Ave Oakland, CA</td>\n",
              "    </tr>\n",
              "    <tr>\n",
              "      <th>4</th>\n",
              "      <td>5</td>\n",
              "      <td>Quadriga Wines Inc</td>\n",
              "      <td>6193 Ridgemont Dr</td>\n",
              "      <td>Oakland</td>\n",
              "      <td>CA</td>\n",
              "      <td>94619</td>\n",
              "      <td>p</td>\n",
              "      <td>6193 Ridgemont Dr Oakland, CA</td>\n",
              "    </tr>\n",
              "    <tr>\n",
              "      <th>5</th>\n",
              "      <td>6</td>\n",
              "      <td>Bev Mo</td>\n",
              "      <td>525 Embarcadero W</td>\n",
              "      <td>Oakland</td>\n",
              "      <td>CA</td>\n",
              "      <td>94607</td>\n",
              "      <td>c</td>\n",
              "      <td>525 Embarcadero W  Oakland, CA</td>\n",
              "    </tr>\n",
              "    <tr>\n",
              "      <th>6</th>\n",
              "      <td>7</td>\n",
              "      <td>Fairfax Liquor</td>\n",
              "      <td>5403 Foothill Blvd</td>\n",
              "      <td>Oakland</td>\n",
              "      <td>CA</td>\n",
              "      <td>94601</td>\n",
              "      <td>p</td>\n",
              "      <td>5403 Foothill Blvd Oakland, CA</td>\n",
              "    </tr>\n",
              "    <tr>\n",
              "      <th>7</th>\n",
              "      <td>8</td>\n",
              "      <td>Saleen Market</td>\n",
              "      <td>1200 78th Ave</td>\n",
              "      <td>Oakland</td>\n",
              "      <td>CA</td>\n",
              "      <td>94621</td>\n",
              "      <td>m</td>\n",
              "      <td>1200 78th Ave Oakland, CA</td>\n",
              "    </tr>\n",
              "    <tr>\n",
              "      <th>8</th>\n",
              "      <td>9</td>\n",
              "      <td>Park Liquors</td>\n",
              "      <td>828 Franklin St</td>\n",
              "      <td>Oakland</td>\n",
              "      <td>CA</td>\n",
              "      <td>94607</td>\n",
              "      <td>p</td>\n",
              "      <td>828 Franklin St Oakland, CA</td>\n",
              "    </tr>\n",
              "    <tr>\n",
              "      <th>9</th>\n",
              "      <td>10</td>\n",
              "      <td>Los Camellos</td>\n",
              "      <td>5913 International Blvd</td>\n",
              "      <td>Oakland</td>\n",
              "      <td>CA</td>\n",
              "      <td>94621</td>\n",
              "      <td>p</td>\n",
              "      <td>5913 International Blvd Oakland, CA</td>\n",
              "    </tr>\n",
              "    <tr>\n",
              "      <th>10</th>\n",
              "      <td>11</td>\n",
              "      <td>Vernon Market</td>\n",
              "      <td>3210 Harrison St</td>\n",
              "      <td>Oakland</td>\n",
              "      <td>CA</td>\n",
              "      <td>94611</td>\n",
              "      <td>m</td>\n",
              "      <td>3210 Harrison St Oakland, CA</td>\n",
              "    </tr>\n",
              "    <tr>\n",
              "      <th>11</th>\n",
              "      <td>12</td>\n",
              "      <td>Seventh Street Food &amp; Liquor</td>\n",
              "      <td>1460 7th St</td>\n",
              "      <td>Oakland</td>\n",
              "      <td>CA</td>\n",
              "      <td>94607</td>\n",
              "      <td>m</td>\n",
              "      <td>1460 7th St Oakland, CA</td>\n",
              "    </tr>\n",
              "    <tr>\n",
              "      <th>12</th>\n",
              "      <td>13</td>\n",
              "      <td>Sav-Mor Liquor</td>\n",
              "      <td>1333 Peralta St</td>\n",
              "      <td>Oakland</td>\n",
              "      <td>CA</td>\n",
              "      <td>94607</td>\n",
              "      <td>p</td>\n",
              "      <td>1333 Peralta St Oakland, CA</td>\n",
              "    </tr>\n",
              "    <tr>\n",
              "      <th>13</th>\n",
              "      <td>14</td>\n",
              "      <td>Vernon Market</td>\n",
              "      <td>3710 Telegraph Ave</td>\n",
              "      <td>Oakland</td>\n",
              "      <td>CA</td>\n",
              "      <td>94609</td>\n",
              "      <td>m</td>\n",
              "      <td>3710 Telegraph Ave Oakland, CA</td>\n",
              "    </tr>\n",
              "    <tr>\n",
              "      <th>14</th>\n",
              "      <td>15</td>\n",
              "      <td>Buckingham Wine &amp; Spirits</td>\n",
              "      <td>3293 Lakeshore Ave</td>\n",
              "      <td>Oakland</td>\n",
              "      <td>CA</td>\n",
              "      <td>94610</td>\n",
              "      <td>p</td>\n",
              "      <td>3293 Lakeshore Ave Oakland, CA</td>\n",
              "    </tr>\n",
              "    <tr>\n",
              "      <th>15</th>\n",
              "      <td>16</td>\n",
              "      <td>Happy Time</td>\n",
              "      <td>1647 8th St</td>\n",
              "      <td>Oakland</td>\n",
              "      <td>CA</td>\n",
              "      <td>94607</td>\n",
              "      <td>p</td>\n",
              "      <td>1647 8th St Oakland, CA</td>\n",
              "    </tr>\n",
              "    <tr>\n",
              "      <th>16</th>\n",
              "      <td>17</td>\n",
              "      <td>Gallager Market</td>\n",
              "      <td>3849 Martin Luther King Jr Way</td>\n",
              "      <td>Oakland</td>\n",
              "      <td>CA</td>\n",
              "      <td>94609</td>\n",
              "      <td>m</td>\n",
              "      <td>3849 Martin Luther King Jr Way Oakland, CA</td>\n",
              "    </tr>\n",
              "    <tr>\n",
              "      <th>17</th>\n",
              "      <td>18</td>\n",
              "      <td>Grand Piedmont Liquors</td>\n",
              "      <td>3900 Grand Ave</td>\n",
              "      <td>Oakland</td>\n",
              "      <td>CA</td>\n",
              "      <td>94610</td>\n",
              "      <td>p</td>\n",
              "      <td>3900 Grand Ave Oakland, CA</td>\n",
              "    </tr>\n",
              "    <tr>\n",
              "      <th>18</th>\n",
              "      <td>19</td>\n",
              "      <td>J J Buckley Fine Wines</td>\n",
              "      <td>7305 Edgewater Dr #D</td>\n",
              "      <td>Oakland</td>\n",
              "      <td>CA</td>\n",
              "      <td>94621</td>\n",
              "      <td>p</td>\n",
              "      <td>7305 Edgewater Dr #D Oakland, CA</td>\n",
              "    </tr>\n",
              "    <tr>\n",
              "      <th>19</th>\n",
              "      <td>20</td>\n",
              "      <td>Carriage Trade Liquors</td>\n",
              "      <td>350 E 18th St</td>\n",
              "      <td>Oakland</td>\n",
              "      <td>CA</td>\n",
              "      <td>94606</td>\n",
              "      <td>p</td>\n",
              "      <td>350 E 18th St Oakland, CA</td>\n",
              "    </tr>\n",
              "  </tbody>\n",
              "</table>\n",
              "</div>"
            ],
            "text/plain": [
              "    id  ...                                        addr\n",
              "0    1  ...                    2101 8th Ave Oakland, CA\n",
              "1    2  ...             1615 Macarthur Blvd Oakland, CA\n",
              "2    3  ...                     394 12th St Oakland, CA\n",
              "3    4  ...                   1500 23th Ave Oakland, CA\n",
              "4    5  ...               6193 Ridgemont Dr Oakland, CA\n",
              "5    6  ...              525 Embarcadero W  Oakland, CA\n",
              "6    7  ...              5403 Foothill Blvd Oakland, CA\n",
              "7    8  ...                   1200 78th Ave Oakland, CA\n",
              "8    9  ...                 828 Franklin St Oakland, CA\n",
              "9   10  ...         5913 International Blvd Oakland, CA\n",
              "10  11  ...                3210 Harrison St Oakland, CA\n",
              "11  12  ...                     1460 7th St Oakland, CA\n",
              "12  13  ...                 1333 Peralta St Oakland, CA\n",
              "13  14  ...              3710 Telegraph Ave Oakland, CA\n",
              "14  15  ...              3293 Lakeshore Ave Oakland, CA\n",
              "15  16  ...                     1647 8th St Oakland, CA\n",
              "16  17  ...  3849 Martin Luther King Jr Way Oakland, CA\n",
              "17  18  ...                  3900 Grand Ave Oakland, CA\n",
              "18  19  ...            7305 Edgewater Dr #D Oakland, CA\n",
              "19  20  ...                   350 E 18th St Oakland, CA\n",
              "\n",
              "[20 rows x 8 columns]"
            ]
          },
          "metadata": {
            "tags": []
          },
          "execution_count": 17
        }
      ]
    },
    {
      "cell_type": "code",
      "metadata": {
        "id": "QTogKzd7FHFt"
      },
      "source": [
        "def geocode_my_address(addr):\n",
        "  # function that won't crash if it runs into a bad address\n",
        "  print('geocoding:', addr)\n",
        "  try:\n",
        "    x = geolocator.geocode(addr) #['geometry'].squeeze()\n",
        "    lon_lat = x.longitude, x.latitude\n",
        "    return lon_lat\n",
        "  except:\n",
        "    print(\"problem with address:\", addr)\n",
        "    lon_lat = None, None\n",
        "    return lon_lat\n",
        "\n"
      ],
      "execution_count": null,
      "outputs": []
    },
    {
      "cell_type": "code",
      "metadata": {
        "id": "4EgZMVr5GlGJ",
        "outputId": "b9e1cf6d-e1c9-4cbc-cc11-1cb57f58ffca",
        "colab": {
          "base_uri": "https://localhost:8080/",
          "height": 425
        }
      },
      "source": [
        "\n",
        "df['lon'], df['lat'] = zip(*df['addr'].apply(lambda x: geocode_my_address(x)))\n"
      ],
      "execution_count": null,
      "outputs": [
        {
          "output_type": "stream",
          "text": [
            "geocoding: 2101 8th Ave Oakland, CA\n",
            "geocoding: 1615 Macarthur Blvd Oakland, CA\n",
            "geocoding: 394 12th St Oakland, CA\n",
            "geocoding: 1500 23th Ave Oakland, CA\n",
            "problem with address: 1500 23th Ave Oakland, CA\n",
            "geocoding: 6193 Ridgemont Dr Oakland, CA\n",
            "geocoding: 525 Embarcadero W  Oakland, CA\n",
            "geocoding: 5403 Foothill Blvd Oakland, CA\n",
            "geocoding: 1200 78th Ave Oakland, CA\n",
            "geocoding: 828 Franklin St Oakland, CA\n",
            "geocoding: 5913 International Blvd Oakland, CA\n",
            "geocoding: 3210 Harrison St Oakland, CA\n",
            "geocoding: 1460 7th St Oakland, CA\n",
            "geocoding: 1333 Peralta St Oakland, CA\n",
            "geocoding: 3710 Telegraph Ave Oakland, CA\n",
            "geocoding: 3293 Lakeshore Ave Oakland, CA\n",
            "geocoding: 1647 8th St Oakland, CA\n",
            "geocoding: 3849 Martin Luther King Jr Way Oakland, CA\n",
            "problem with address: 3849 Martin Luther King Jr Way Oakland, CA\n",
            "geocoding: 3900 Grand Ave Oakland, CA\n",
            "geocoding: 7305 Edgewater Dr #D Oakland, CA\n",
            "problem with address: 7305 Edgewater Dr #D Oakland, CA\n",
            "geocoding: 350 E 18th St Oakland, CA\n"
          ],
          "name": "stdout"
        }
      ]
    },
    {
      "cell_type": "code",
      "metadata": {
        "id": "w-BitfrOK0Rg",
        "outputId": "f83f11c5-f61e-49e5-88a3-f602bfda62d9",
        "colab": {
          "base_uri": "https://localhost:8080/",
          "height": 697
        }
      },
      "source": [
        "df"
      ],
      "execution_count": null,
      "outputs": [
        {
          "output_type": "execute_result",
          "data": {
            "text/html": [
              "<div>\n",
              "<style scoped>\n",
              "    .dataframe tbody tr th:only-of-type {\n",
              "        vertical-align: middle;\n",
              "    }\n",
              "\n",
              "    .dataframe tbody tr th {\n",
              "        vertical-align: top;\n",
              "    }\n",
              "\n",
              "    .dataframe thead th {\n",
              "        text-align: right;\n",
              "    }\n",
              "</style>\n",
              "<table border=\"1\" class=\"dataframe\">\n",
              "  <thead>\n",
              "    <tr style=\"text-align: right;\">\n",
              "      <th></th>\n",
              "      <th>id</th>\n",
              "      <th>name</th>\n",
              "      <th>street</th>\n",
              "      <th>city</th>\n",
              "      <th>state</th>\n",
              "      <th>zip</th>\n",
              "      <th>type</th>\n",
              "      <th>addr</th>\n",
              "      <th>lon</th>\n",
              "      <th>lat</th>\n",
              "    </tr>\n",
              "  </thead>\n",
              "  <tbody>\n",
              "    <tr>\n",
              "      <th>0</th>\n",
              "      <td>1</td>\n",
              "      <td>Wah Fay Liquors</td>\n",
              "      <td>2101 8th Ave</td>\n",
              "      <td>Oakland</td>\n",
              "      <td>CA</td>\n",
              "      <td>94606</td>\n",
              "      <td>p</td>\n",
              "      <td>2101 8th Ave Oakland, CA</td>\n",
              "      <td>-122.245</td>\n",
              "      <td>37.7983</td>\n",
              "    </tr>\n",
              "    <tr>\n",
              "      <th>1</th>\n",
              "      <td>2</td>\n",
              "      <td>Vision Liquor</td>\n",
              "      <td>1615 Macarthur Blvd</td>\n",
              "      <td>Oakland</td>\n",
              "      <td>CA</td>\n",
              "      <td>94602</td>\n",
              "      <td>p</td>\n",
              "      <td>1615 Macarthur Blvd Oakland, CA</td>\n",
              "      <td>-122.224</td>\n",
              "      <td>37.8003</td>\n",
              "    </tr>\n",
              "    <tr>\n",
              "      <th>2</th>\n",
              "      <td>3</td>\n",
              "      <td>Souza's Liquors</td>\n",
              "      <td>394 12th St</td>\n",
              "      <td>Oakland</td>\n",
              "      <td>CA</td>\n",
              "      <td>94607</td>\n",
              "      <td>p</td>\n",
              "      <td>394 12th St Oakland, CA</td>\n",
              "      <td>-122.271</td>\n",
              "      <td>37.8025</td>\n",
              "    </tr>\n",
              "    <tr>\n",
              "      <th>3</th>\n",
              "      <td>4</td>\n",
              "      <td>Tk Liquors</td>\n",
              "      <td>1500 23th Ave</td>\n",
              "      <td>Oakland</td>\n",
              "      <td>CA</td>\n",
              "      <td>94606</td>\n",
              "      <td>p</td>\n",
              "      <td>1500 23th Ave Oakland, CA</td>\n",
              "      <td>None</td>\n",
              "      <td>None</td>\n",
              "    </tr>\n",
              "    <tr>\n",
              "      <th>4</th>\n",
              "      <td>5</td>\n",
              "      <td>Quadriga Wines Inc</td>\n",
              "      <td>6193 Ridgemont Dr</td>\n",
              "      <td>Oakland</td>\n",
              "      <td>CA</td>\n",
              "      <td>94619</td>\n",
              "      <td>p</td>\n",
              "      <td>6193 Ridgemont Dr Oakland, CA</td>\n",
              "      <td>-122.168</td>\n",
              "      <td>37.7846</td>\n",
              "    </tr>\n",
              "    <tr>\n",
              "      <th>5</th>\n",
              "      <td>6</td>\n",
              "      <td>Bev Mo</td>\n",
              "      <td>525 Embarcadero W</td>\n",
              "      <td>Oakland</td>\n",
              "      <td>CA</td>\n",
              "      <td>94607</td>\n",
              "      <td>c</td>\n",
              "      <td>525 Embarcadero W  Oakland, CA</td>\n",
              "      <td>-122.279</td>\n",
              "      <td>37.7959</td>\n",
              "    </tr>\n",
              "    <tr>\n",
              "      <th>6</th>\n",
              "      <td>7</td>\n",
              "      <td>Fairfax Liquor</td>\n",
              "      <td>5403 Foothill Blvd</td>\n",
              "      <td>Oakland</td>\n",
              "      <td>CA</td>\n",
              "      <td>94601</td>\n",
              "      <td>p</td>\n",
              "      <td>5403 Foothill Blvd Oakland, CA</td>\n",
              "      <td>-122.172</td>\n",
              "      <td>37.7693</td>\n",
              "    </tr>\n",
              "    <tr>\n",
              "      <th>7</th>\n",
              "      <td>8</td>\n",
              "      <td>Saleen Market</td>\n",
              "      <td>1200 78th Ave</td>\n",
              "      <td>Oakland</td>\n",
              "      <td>CA</td>\n",
              "      <td>94621</td>\n",
              "      <td>m</td>\n",
              "      <td>1200 78th Ave Oakland, CA</td>\n",
              "      <td>-122.186</td>\n",
              "      <td>37.7556</td>\n",
              "    </tr>\n",
              "    <tr>\n",
              "      <th>8</th>\n",
              "      <td>9</td>\n",
              "      <td>Park Liquors</td>\n",
              "      <td>828 Franklin St</td>\n",
              "      <td>Oakland</td>\n",
              "      <td>CA</td>\n",
              "      <td>94607</td>\n",
              "      <td>p</td>\n",
              "      <td>828 Franklin St Oakland, CA</td>\n",
              "      <td>-122.272</td>\n",
              "      <td>37.7999</td>\n",
              "    </tr>\n",
              "    <tr>\n",
              "      <th>9</th>\n",
              "      <td>10</td>\n",
              "      <td>Los Camellos</td>\n",
              "      <td>5913 International Blvd</td>\n",
              "      <td>Oakland</td>\n",
              "      <td>CA</td>\n",
              "      <td>94621</td>\n",
              "      <td>p</td>\n",
              "      <td>5913 International Blvd Oakland, CA</td>\n",
              "      <td>-122.218</td>\n",
              "      <td>37.7738</td>\n",
              "    </tr>\n",
              "    <tr>\n",
              "      <th>10</th>\n",
              "      <td>11</td>\n",
              "      <td>Vernon Market</td>\n",
              "      <td>3210 Harrison St</td>\n",
              "      <td>Oakland</td>\n",
              "      <td>CA</td>\n",
              "      <td>94611</td>\n",
              "      <td>m</td>\n",
              "      <td>3210 Harrison St Oakland, CA</td>\n",
              "      <td>-122.271</td>\n",
              "      <td>37.7976</td>\n",
              "    </tr>\n",
              "    <tr>\n",
              "      <th>11</th>\n",
              "      <td>12</td>\n",
              "      <td>Seventh Street Food &amp; Liquor</td>\n",
              "      <td>1460 7th St</td>\n",
              "      <td>Oakland</td>\n",
              "      <td>CA</td>\n",
              "      <td>94607</td>\n",
              "      <td>m</td>\n",
              "      <td>1460 7th St Oakland, CA</td>\n",
              "      <td>-122.395</td>\n",
              "      <td>37.7667</td>\n",
              "    </tr>\n",
              "    <tr>\n",
              "      <th>12</th>\n",
              "      <td>13</td>\n",
              "      <td>Sav-Mor Liquor</td>\n",
              "      <td>1333 Peralta St</td>\n",
              "      <td>Oakland</td>\n",
              "      <td>CA</td>\n",
              "      <td>94607</td>\n",
              "      <td>p</td>\n",
              "      <td>1333 Peralta St Oakland, CA</td>\n",
              "      <td>-122.294</td>\n",
              "      <td>37.811</td>\n",
              "    </tr>\n",
              "    <tr>\n",
              "      <th>13</th>\n",
              "      <td>14</td>\n",
              "      <td>Vernon Market</td>\n",
              "      <td>3710 Telegraph Ave</td>\n",
              "      <td>Oakland</td>\n",
              "      <td>CA</td>\n",
              "      <td>94609</td>\n",
              "      <td>m</td>\n",
              "      <td>3710 Telegraph Ave Oakland, CA</td>\n",
              "      <td>-122.262</td>\n",
              "      <td>37.8382</td>\n",
              "    </tr>\n",
              "    <tr>\n",
              "      <th>14</th>\n",
              "      <td>15</td>\n",
              "      <td>Buckingham Wine &amp; Spirits</td>\n",
              "      <td>3293 Lakeshore Ave</td>\n",
              "      <td>Oakland</td>\n",
              "      <td>CA</td>\n",
              "      <td>94610</td>\n",
              "      <td>p</td>\n",
              "      <td>3293 Lakeshore Ave Oakland, CA</td>\n",
              "      <td>-122.244</td>\n",
              "      <td>37.8109</td>\n",
              "    </tr>\n",
              "    <tr>\n",
              "      <th>15</th>\n",
              "      <td>16</td>\n",
              "      <td>Happy Time</td>\n",
              "      <td>1647 8th St</td>\n",
              "      <td>Oakland</td>\n",
              "      <td>CA</td>\n",
              "      <td>94607</td>\n",
              "      <td>p</td>\n",
              "      <td>1647 8th St Oakland, CA</td>\n",
              "      <td>-122.299</td>\n",
              "      <td>37.8072</td>\n",
              "    </tr>\n",
              "    <tr>\n",
              "      <th>16</th>\n",
              "      <td>17</td>\n",
              "      <td>Gallager Market</td>\n",
              "      <td>3849 Martin Luther King Jr Way</td>\n",
              "      <td>Oakland</td>\n",
              "      <td>CA</td>\n",
              "      <td>94609</td>\n",
              "      <td>m</td>\n",
              "      <td>3849 Martin Luther King Jr Way Oakland, CA</td>\n",
              "      <td>None</td>\n",
              "      <td>None</td>\n",
              "    </tr>\n",
              "    <tr>\n",
              "      <th>17</th>\n",
              "      <td>18</td>\n",
              "      <td>Grand Piedmont Liquors</td>\n",
              "      <td>3900 Grand Ave</td>\n",
              "      <td>Oakland</td>\n",
              "      <td>CA</td>\n",
              "      <td>94610</td>\n",
              "      <td>p</td>\n",
              "      <td>3900 Grand Ave Oakland, CA</td>\n",
              "      <td>-122.245</td>\n",
              "      <td>37.8174</td>\n",
              "    </tr>\n",
              "    <tr>\n",
              "      <th>18</th>\n",
              "      <td>19</td>\n",
              "      <td>J J Buckley Fine Wines</td>\n",
              "      <td>7305 Edgewater Dr #D</td>\n",
              "      <td>Oakland</td>\n",
              "      <td>CA</td>\n",
              "      <td>94621</td>\n",
              "      <td>p</td>\n",
              "      <td>7305 Edgewater Dr #D Oakland, CA</td>\n",
              "      <td>None</td>\n",
              "      <td>None</td>\n",
              "    </tr>\n",
              "    <tr>\n",
              "      <th>19</th>\n",
              "      <td>20</td>\n",
              "      <td>Carriage Trade Liquors</td>\n",
              "      <td>350 E 18th St</td>\n",
              "      <td>Oakland</td>\n",
              "      <td>CA</td>\n",
              "      <td>94606</td>\n",
              "      <td>p</td>\n",
              "      <td>350 E 18th St Oakland, CA</td>\n",
              "      <td>-122.251</td>\n",
              "      <td>37.7994</td>\n",
              "    </tr>\n",
              "  </tbody>\n",
              "</table>\n",
              "</div>"
            ],
            "text/plain": [
              "    id                          name  ...      lon      lat\n",
              "0    1               Wah Fay Liquors  ... -122.245  37.7983\n",
              "1    2                 Vision Liquor  ... -122.224  37.8003\n",
              "2    3               Souza's Liquors  ... -122.271  37.8025\n",
              "3    4                    Tk Liquors  ...     None     None\n",
              "4    5            Quadriga Wines Inc  ... -122.168  37.7846\n",
              "5    6                        Bev Mo  ... -122.279  37.7959\n",
              "6    7                Fairfax Liquor  ... -122.172  37.7693\n",
              "7    8                 Saleen Market  ... -122.186  37.7556\n",
              "8    9                  Park Liquors  ... -122.272  37.7999\n",
              "9   10                  Los Camellos  ... -122.218  37.7738\n",
              "10  11                 Vernon Market  ... -122.271  37.7976\n",
              "11  12  Seventh Street Food & Liquor  ... -122.395  37.7667\n",
              "12  13                Sav-Mor Liquor  ... -122.294   37.811\n",
              "13  14                 Vernon Market  ... -122.262  37.8382\n",
              "14  15     Buckingham Wine & Spirits  ... -122.244  37.8109\n",
              "15  16                    Happy Time  ... -122.299  37.8072\n",
              "16  17               Gallager Market  ...     None     None\n",
              "17  18        Grand Piedmont Liquors  ... -122.245  37.8174\n",
              "18  19        J J Buckley Fine Wines  ...     None     None\n",
              "19  20        Carriage Trade Liquors  ... -122.251  37.7994\n",
              "\n",
              "[20 rows x 10 columns]"
            ]
          },
          "metadata": {
            "tags": []
          },
          "execution_count": 20
        }
      ]
    },
    {
      "cell_type": "markdown",
      "metadata": {
        "id": "qdQ5PRZ1hwGc"
      },
      "source": [
        "Last Updated on July 8, 2020 by Patty Frontiera, pfrontiera@berkeley.edu "
      ]
    },
    {
      "cell_type": "code",
      "metadata": {
        "id": "GnHmoEW_UBAZ"
      },
      "source": [
        ""
      ],
      "execution_count": null,
      "outputs": []
    }
  ]
}